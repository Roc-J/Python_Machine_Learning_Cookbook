{
 "cells": [
  {
   "cell_type": "code",
   "execution_count": 18,
   "metadata": {},
   "outputs": [],
   "source": [
    "import numpy as np\n",
    "from sklearn.tree import DecisionTreeRegressor\n",
    "from sklearn.ensemble import AdaBoostRegressor\n",
    "from sklearn import datasets\n",
    "from sklearn.metrics import mean_squared_error, explained_variance_score\n",
    "from sklearn.utils import shuffle\n",
    "import matplotlib.pyplot as plt\n",
    "%matplotlib inline"
   ]
  },
  {
   "cell_type": "code",
   "execution_count": 2,
   "metadata": {},
   "outputs": [],
   "source": [
    "# 波士顿房价数据\n",
    "housing_data = datasets.load_boston()"
   ]
  },
  {
   "cell_type": "code",
   "execution_count": 5,
   "metadata": {},
   "outputs": [],
   "source": [
    "# 随机混合\n",
    "X, y = shuffle(housing_data.data, housing_data.target, random_state=7)"
   ]
  },
  {
   "cell_type": "code",
   "execution_count": 9,
   "metadata": {},
   "outputs": [],
   "source": [
    "num_training = int(0.8*len(X))\n",
    "X_train, y_train = X[:num_training], y[:num_training]\n",
    "X_test, y_test = X[num_training:], y[num_training:]"
   ]
  },
  {
   "cell_type": "code",
   "execution_count": 13,
   "metadata": {},
   "outputs": [
    {
     "data": {
      "text/plain": [
       "AdaBoostRegressor(base_estimator=DecisionTreeRegressor(criterion='mse', max_depth=4, max_features=None,\n",
       "           max_leaf_nodes=None, min_impurity_decrease=0.0,\n",
       "           min_impurity_split=None, min_samples_leaf=1,\n",
       "           min_samples_split=2, min_weight_fraction_leaf=0.0,\n",
       "           presort=False, random_state=None, splitter='best'),\n",
       "         learning_rate=1.0, loss='linear', n_estimators=400,\n",
       "         random_state=7)"
      ]
     },
     "execution_count": 13,
     "metadata": {},
     "output_type": "execute_result"
    }
   ],
   "source": [
    "dt_regressor = DecisionTreeRegressor(max_depth=4)\n",
    "dt_regressor.fit(X_train, y_train)\n",
    "\n",
    "ad_regressor = AdaBoostRegressor(DecisionTreeRegressor(max_depth=4), n_estimators=400, random_state=7)\n",
    "ad_regressor.fit(X_train, y_train)"
   ]
  },
  {
   "cell_type": "code",
   "execution_count": 14,
   "metadata": {},
   "outputs": [
    {
     "name": "stdout",
     "output_type": "stream",
     "text": [
      "Decision Tree:\n",
      "Mean Squared error: 14.79\n",
      "Explained Variance score: 0.82\n"
     ]
    }
   ],
   "source": [
    "y_pred_dt = dt_regressor.predict(X_test)\n",
    "mes = mean_squared_error(y_test, y_pred_dt)\n",
    "evs = explained_variance_score(y_test, y_pred_dt)\n",
    "\n",
    "print(\"Decision Tree performance:\")\n",
    "print(\"Mean Squared error:\", round(mes,2))\n",
    "print(\"Explained Variance score:\", round(evs, 2))"
   ]
  },
  {
   "cell_type": "code",
   "execution_count": 15,
   "metadata": {},
   "outputs": [
    {
     "name": "stdout",
     "output_type": "stream",
     "text": [
      "Decision Tree:\n",
      "Mean Squared error: 7.66\n",
      "Explained Variance score: 0.91\n"
     ]
    }
   ],
   "source": [
    "y_pred_ad = ad_regressor.predict(X_test)\n",
    "mes = mean_squared_error(y_test, y_pred_ad)\n",
    "evs = explained_variance_score(y_test, y_pred_ad)\n",
    "\n",
    "print(\"AdaBoost performance:\")\n",
    "print(\"Mean Squared error:\", round(mes,2))\n",
    "print(\"Explained Variance score:\", round(evs, 2))"
   ]
  },
  {
   "cell_type": "code",
   "execution_count": 19,
   "metadata": {},
   "outputs": [],
   "source": [
    "def plot_feature_importances(feature_importances, title, feature_names):\n",
    "    # 特征标准化\n",
    "    feature_importances = 100.0*(feature_importances/max(feature_importances))\n",
    "    # 将得分从高到低排序\n",
    "    index_sorted = np.flipud(np.argsort(feature_importances))\n",
    "    \n",
    "    pos = np.arange(index_sorted.shape[0]) + 0.5\n",
    "    \n",
    "    # plot\n",
    "    plt.figure()\n",
    "    plt.bar(pos, feature_importances[index_sorted], align=\"center\")\n",
    "    plt.xticks(pos, feature_names[index_sorted])\n",
    "    plt.ylabel(\"Relative Importance\")\n",
    "    plt.title(title)\n",
    "    plt.show()"
   ]
  },
  {
   "cell_type": "code",
   "execution_count": 20,
   "metadata": {},
   "outputs": [
    {
     "data": {
      "image/png": "[encoded data removed]",
      "text/plain": [
       "<Figure size 432x288 with 1 Axes>"
      ]
     },
     "metadata": {
      "needs_background": "light"
     },
     "output_type": "display_data"
    }
   ],
   "source": [
    "plot_feature_importances(dt_regressor.feature_importances_, \"Decision Tree regressor\", housing_data.feature_names)"
   ]
  },
  {
   "cell_type": "code",
   "execution_count": 21,
   "metadata": {},
   "outputs": [
    {
     "data": {
      "image/png": "[encoded data removed]",
      "text/plain": [
       "<Figure size 432x288 with 1 Axes>"
      ]
     },
     "metadata": {
      "needs_background": "light"
     },
     "output_type": "display_data"
    }
   ],
   "source": [
    "plot_feature_importances(ad_regressor.feature_importances_, \"adaBoost regressor\", housing_data.feature_names)"
   ]
  }
 ],
 "metadata": {
  "kernelspec": {
   "display_name": "Python 3",
   "language": "python",
   "name": "python3"
  },
  "language_info": {
   "codemirror_mode": {
    "name": "ipython",
    "version": 3
   },
   "file_extension": ".py",
   "mimetype": "text/x-python",
   "name": "python",
   "nbconvert_exporter": "python",
   "pygments_lexer": "ipython3",
   "version": "3.7.1"
  }
 },
 "nbformat": 4,
 "nbformat_minor": 2
}
