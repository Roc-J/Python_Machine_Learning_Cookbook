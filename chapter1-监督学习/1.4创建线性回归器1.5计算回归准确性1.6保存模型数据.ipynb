{
 "cells": [
  {
   "cell_type": "markdown",
   "metadata": {},
   "source": [
    "回归是估计输入与连续值输出数据之间关系的过程。  \n",
    "线性回归的目标是提取输入变量与输出变量的关联线性模型，这就要求实际输出与线性方程预测的输出的残差平方和最小化。这种方法被称为普通最小二乘法。"
   ]
  },
  {
   "cell_type": "code",
   "execution_count": 1,
   "metadata": {},
   "outputs": [],
   "source": [
    "import sys\n",
    "import numpy as np\n",
    "#filename = sys.args[1]\n",
    "filename = \"data_singlevar.txt\"\n",
    "X = []\n",
    "y = []\n",
    "with open(filename, 'r') as f:\n",
    "    for line in f.readlines():\n",
    "        xt, yt = [float(i) for i in line.split(',')]\n",
    "        X.append(xt)\n",
    "        y.append(yt)"
   ]
  },
  {
   "cell_type": "code",
   "execution_count": 2,
   "metadata": {},
   "outputs": [],
   "source": [
    "num_training = int(0.8*len(X))\n",
    "num_test = len(X) - num_training\n",
    "# 训练数据\n",
    "X_train = np.array(X[:num_training]).reshape((num_training,1))\n",
    "y_train = np.array(y[:num_training])\n",
    "\n",
    "#测试数据\n",
    "X_test = np.array(X[num_training:]).reshape((num_test, 1))\n",
    "y_test = np.array(y[num_training:])"
   ]
  },
  {
   "cell_type": "code",
   "execution_count": 3,
   "metadata": {},
   "outputs": [
    {
     "data": {
      "text/plain": [
       "LinearRegression(copy_X=True, fit_intercept=True, n_jobs=None,\n",
       "         normalize=False)"
      ]
     },
     "execution_count": 3,
     "metadata": {},
     "output_type": "execute_result"
    }
   ],
   "source": [
    "# 创建一个回归器\n",
    "from sklearn import linear_model\n",
    "\n",
    "# 创建线性回归对象\n",
    "linear_regressor = linear_model.LinearRegression()\n",
    "\n",
    "linear_regressor.fit(X_train, y_train)"
   ]
  },
  {
   "cell_type": "code",
   "execution_count": 4,
   "metadata": {},
   "outputs": [
    {
     "data": {
      "image/png": "[encoded data removed]",
      "text/plain": [
       "<Figure size 432x288 with 1 Axes>"
      ]
     },
     "metadata": {
      "needs_background": "light"
     },
     "output_type": "display_data"
    }
   ],
   "source": [
    "import matplotlib.pyplot as plt\n",
    "%matplotlib inline\n",
    "\n",
    "y_train_pred = linear_regressor.predict(X_train)\n",
    "plt.figure()\n",
    "plt.scatter(X_train, y_train,color='green')\n",
    "plt.plot(X_train, y_train_pred, color='black',linewidth=4)\n",
    "plt.title(\"Training data\")\n",
    "plt.show()"
   ]
  },
  {
   "cell_type": "code",
   "execution_count": 5,
   "metadata": {},
   "outputs": [
    {
     "data": {
      "image/png": "[encoded data removed]",
      "text/plain": [
       "<Figure size 432x288 with 1 Axes>"
      ]
     },
     "metadata": {
      "needs_background": "light"
     },
     "output_type": "display_data"
    }
   ],
   "source": [
    "y_test_pred = linear_regressor.predict(X_test)\n",
    "plt.figure()\n",
    "plt.scatter(X_test, y_test,color='green')\n",
    "plt.plot(X_test, y_test_pred, color='black',linewidth=4)\n",
    "plt.title(\"Test data\")\n",
    "plt.show()"
   ]
  },
  {
   "cell_type": "markdown",
   "metadata": {},
   "source": [
    "在模型评价的相关内容中，用误差表示实际值与模型预测值之间的差值。  \n",
    "* 平均绝对误差(mean absolute error)：给定数据集的所有数据点的绝对误差平均值\n",
    "* 均方误差（Mean squred error）:给定数据集的所有数据点的误差的平方的平均值  \n",
    "* 中位数绝对误差（median absolute error）：这是给定数据集的所有数据点的误差的中位数，主要用来消除异常值的干扰  \n",
    "* 解释方差分\n",
    "* R方得分"
   ]
  },
  {
   "cell_type": "code",
   "execution_count": 6,
   "metadata": {},
   "outputs": [],
   "source": [
    "import sklearn.metrics as sm"
   ]
  },
  {
   "cell_type": "code",
   "execution_count": 7,
   "metadata": {},
   "outputs": [
    {
     "name": "stdout",
     "output_type": "stream",
     "text": [
      "Mean absolute error: 0.54\n",
      "Mean squred error: 0.38\n",
      "Median absolute error:  0.54\n",
      "Explained variance score: 0.68\n",
      "R2 score: 0.68\n"
     ]
    }
   ],
   "source": [
    "print(\"Mean absolute error:\",round(sm.mean_absolute_error(y_test, y_test_pred), 2))\n",
    "print(\"Mean squred error:\", round(sm.mean_squared_error(y_test, y_test_pred), 2))\n",
    "print(\"Median absolute error: \",round(sm.median_absolute_error(y_test, y_test_pred), 2))\n",
    "print(\"Explained variance score:\", round(sm.explained_variance_score(y_test, y_test_pred), 2))\n",
    "print(\"R2 score:\", round(sm.r2_score(y_test, y_test_pred),2))"
   ]
  },
  {
   "cell_type": "markdown",
   "metadata": {},
   "source": [
    ">每个指标都面面俱到是非常难的，因此只选择一两个指标来衡量模型效果。通常做法是尽量保证均方误差最低，而且解释方差最高。"
   ]
  },
  {
   "cell_type": "code",
   "execution_count": 11,
   "metadata": {},
   "outputs": [],
   "source": [
    "# 保存模型\n",
    "import pickle\n",
    "output_model_file = 'saved_model.pkl'\n",
    "with open(output_model_file, 'wb') as f:\n",
    "    pickle.dump(linear_regressor, f)"
   ]
  },
  {
   "cell_type": "code",
   "execution_count": 13,
   "metadata": {},
   "outputs": [
    {
     "name": "stdout",
     "output_type": "stream",
     "text": [
      "Mean absolute error: 0.54\n"
     ]
    }
   ],
   "source": [
    "# 读取模型\n",
    "with open(output_model_file, 'rb') as f:\n",
    "    model_linearead = pickle.load(f)\n",
    "    \n",
    "y_test_predict = model_linearead.predict(X_test)\n",
    "print(\"Mean absolute error:\",round(sm.mean_absolute_error(y_test, y_test_predict), 2))"
   ]
  }
 ],
 "metadata": {
  "kernelspec": {
   "display_name": "Python 3",
   "language": "python",
   "name": "python3"
  },
  "language_info": {
   "codemirror_mode": {
    "name": "ipython",
    "version": 3
   },
   "file_extension": ".py",
   "mimetype": "text/x-python",
   "name": "python",
   "nbconvert_exporter": "python",
   "pygments_lexer": "ipython3",
   "version": "3.7.1"
  }
 },
 "nbformat": 4,
 "nbformat_minor": 2
}
