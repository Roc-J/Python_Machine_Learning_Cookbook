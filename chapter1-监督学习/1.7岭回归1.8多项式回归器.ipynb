{
 "cells": [
  {
   "cell_type": "markdown",
   "metadata": {},
   "source": [
    "## 岭回归\n",
    "线性回归最主要的问题是对异常值敏感。在真实世界的数据收集过程中，经常会遇到错误的度量结果。线性回归使用的是普通最小二乘法，其目标是使平方误差最小化。当存在异常值时，会对模型影响很大。  \n",
    "换句话说，最小二乘法在建模时会考虑每个数据点的影响，对于存在异常数据点的问题，可以通过引入正则化项的系数作为阈值来消除异常值的影响。"
   ]
  },
  {
   "cell_type": "code",
   "execution_count": 1,
   "metadata": {},
   "outputs": [],
   "source": [
    "import sys\n",
    "import numpy as np"
   ]
  },
  {
   "cell_type": "code",
   "execution_count": 2,
   "metadata": {},
   "outputs": [],
   "source": [
    "#filename = sys.argv[1]\n",
    "filename = \"data_multivar.txt\"\n",
    "X = []\n",
    "y = []\n",
    "with open(filename, 'r') as f:\n",
    "    for line in f.readlines():\n",
    "        data = [float(i) for i in line.split(',')]\n",
    "        xt, yt = data[:-1],data[-1]\n",
    "        X.append(xt)\n",
    "        y.append(yt)"
   ]
  },
  {
   "cell_type": "code",
   "execution_count": 3,
   "metadata": {},
   "outputs": [],
   "source": [
    "# Train/test split\n",
    "num_training = int(0.8*len(X))\n",
    "num_test = len(X) - num_training\n",
    "\n",
    "# Training data\n",
    "X_train = np.array(X[:num_training])\n",
    "y_train = np.array(y[:num_training])\n",
    "\n",
    "# Test data\n",
    "X_test = np.array(X[num_training:])\n",
    "y_test = np.array(y[num_training:])"
   ]
  },
  {
   "cell_type": "code",
   "execution_count": 4,
   "metadata": {},
   "outputs": [
    {
     "name": "stdout",
     "output_type": "stream",
     "text": [
      "Mean absolute error: 3.95\n",
      "Mean squared error: 23.15\n",
      "Median absolute error: 3.69\n",
      "Explain variance score: 0.84\n",
      "R2 score: 0.83\n"
     ]
    }
   ],
   "source": [
    "from sklearn import linear_model\n",
    "import sklearn.metrics as sm\n",
    "\n",
    "ridge_regressor = linear_model.Ridge(alpha=0.01, fit_intercept=True, max_iter=10000)\n",
    "ridge_regressor.fit(X_train, y_train)\n",
    "\n",
    "y_test_pred_ridge = ridge_regressor.predict(X_test)\n",
    "print(\"Mean absolute error:\", round(sm.mean_absolute_error(y_test, y_test_pred_ridge), 2))\n",
    "print(\"Mean squared error:\", round(sm.mean_squared_error(y_test, y_test_pred_ridge),2))\n",
    "print(\"Median absolute error:\", round(sm.median_absolute_error(y_test, y_test_pred_ridge), 2))\n",
    "print(\"Explain variance score:\",round(sm.explained_variance_score(y_test, y_test_pred_ridge), 2))\n",
    "print(\"R2 score:\",round(sm.r2_score(y_test, y_test_pred_ridge), 2))"
   ]
  },
  {
   "cell_type": "code",
   "execution_count": 5,
   "metadata": {},
   "outputs": [
    {
     "name": "stdout",
     "output_type": "stream",
     "text": [
      "Mean absolute error: 3.95\n",
      "Mean squared error: 23.15\n",
      "Median absolute error: 3.69\n",
      "Explain variance score: 0.84\n",
      "R2 score: 0.83\n"
     ]
    }
   ],
   "source": [
    "linear_regressor = linear_model.LinearRegression()\n",
    "linear_regressor.fit(X_train, y_train)\n",
    "\n",
    "y_test_pred = linear_regressor.predict(X_test)\n",
    "print(\"Mean absolute error:\", round(sm.mean_absolute_error(y_test, y_test_pred), 2))\n",
    "print(\"Mean squared error:\", round(sm.mean_squared_error(y_test, y_test_pred),2))\n",
    "print(\"Median absolute error:\", round(sm.median_absolute_error(y_test, y_test_pred), 2))\n",
    "print(\"Explain variance score:\",round(sm.explained_variance_score(y_test, y_test_pred), 2))\n",
    "print(\"R2 score:\",round(sm.r2_score(y_test, y_test_pred), 2))"
   ]
  },
  {
   "cell_type": "code",
   "execution_count": 11,
   "metadata": {},
   "outputs": [
    {
     "name": "stdout",
     "output_type": "stream",
     "text": [
      "Linear regression: [-11.0587295]\n",
      "Polynomail regression: [-8.06664984]\n"
     ]
    }
   ],
   "source": [
    "from sklearn.preprocessing import PolynomialFeatures\n",
    "# 将曲线的多项式的次数的初始值设置为3\n",
    "polynomial = PolynomialFeatures(degree=15)\n",
    "x_train_transformed = polynomial.fit_transform(X_train)\n",
    "datapoint = np.array([0.39, 2.78, 7.11]).reshape(1,-1)\n",
    "poly_datapoint = polynomial.fit_transform(datapoint)\n",
    "\n",
    "poly_linear_model = linear_model.LinearRegression()\n",
    "poly_linear_model.fit(x_train_transformed, y_train)\n",
    "print(\"Linear regression:\", linear_regressor.predict(datapoint))\n",
    "print(\"Polynomail regression:\", poly_linear_model.predict(poly_datapoint))"
   ]
  },
  {
   "cell_type": "code",
   "execution_count": null,
   "metadata": {},
   "outputs": [],
   "source": []
  }
 ],
 "metadata": {
  "kernelspec": {
   "display_name": "Python 3",
   "language": "python",
   "name": "python3"
  },
  "language_info": {
   "codemirror_mode": {
    "name": "ipython",
    "version": 3
   },
   "file_extension": ".py",
   "mimetype": "text/x-python",
   "name": "python",
   "nbconvert_exporter": "python",
   "pygments_lexer": "ipython3",
   "version": "3.7.1"
  }
 },
 "nbformat": 4,
 "nbformat_minor": 2
}
