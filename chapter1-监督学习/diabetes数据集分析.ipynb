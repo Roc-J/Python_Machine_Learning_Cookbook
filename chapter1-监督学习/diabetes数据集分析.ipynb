{
 "cells": [
  {
   "cell_type": "markdown",
   "metadata": {},
   "source": [
    "diabetes数据集是学习线性回归  \n",
    "diabetes是一个关于糖尿病的数据集，该数据集包括442个病人的生理数据及一年以后的病情发展情况。  \n",
    "数据集中的特征值的总共10项，如下：  \n",
    "    年龄  \n",
    "    性别  \n",
    "    体质指数  \n",
    "    血压  \n",
    "    S1-S6 六种血清的化验数据  \n",
    "但请注意，以上的数据是经过特殊处理，10个数据中的每个都做了均值中心化处理，然后又用标准差乘以个体数量调整了数值范围，验证就会发现任何一列的所有数值平方和为1"
   ]
  },
  {
   "cell_type": "code",
   "execution_count": 3,
   "metadata": {},
   "outputs": [],
   "source": [
    "import numpy as np\n",
    "from sklearn import datasets, linear_model\n",
    "from sklearn.model_selection import train_test_split\n",
    "import matplotlib.pyplot as plt\n",
    "%matplotlib inline"
   ]
  },
  {
   "cell_type": "code",
   "execution_count": 11,
   "metadata": {},
   "outputs": [],
   "source": [
    "def load_data():\n",
    "    diabetes = datasets.load_diabetes()\n",
    "    return train_test_split(diabetes.data, diabetes.target, test_size=0.2,random_state=7)"
   ]
  },
  {
   "cell_type": "code",
   "execution_count": 12,
   "metadata": {},
   "outputs": [],
   "source": [
    "def test_linearRegression(*data):\n",
    "    X_train, X_test, y_train, y_test = data\n",
    "    linear_regressor = linear_model.LinearRegression()\n",
    "    linear_regressor.fit(X_train, y_train)\n",
    "    \n",
    "    print(\"权重向量：%s, b的值为%.2f\" % (linear_regressor.coef_, linear_regressor.intercept_))\n",
    "    print(\"损失函数的值是: %.2f\" % np.mean((linear_regressor.predict(X_test) - y_test)**2))\n",
    "    print(\"预测性能得分：%.2f\" % linear_regressor.score(X_test, y_test))"
   ]
  },
  {
   "cell_type": "code",
   "execution_count": 13,
   "metadata": {},
   "outputs": [
    {
     "name": "stdout",
     "output_type": "stream",
     "text": [
      "权重向量：[ -55.62047247 -259.84522708  540.30079099  344.62715568 -971.71436208\n",
      "  612.43396894  155.15860756  190.63482994  830.76852218   73.86967485], b的值为153.96\n",
      "损失函数的值是: 2966.04\n",
      "预测性能得分：0.40\n"
     ]
    }
   ],
   "source": [
    "X_train, X_test, y_train, y_test = load_data()\n",
    "test_linearRegression(X_train, X_test, y_train, y_test)"
   ]
  },
  {
   "cell_type": "code",
   "execution_count": 16,
   "metadata": {},
   "outputs": [],
   "source": [
    "def test_ridge(*data):\n",
    "    X_train, X_test, y_train, y_test = data\n",
    "    ridge_regressor = linear_model.Ridge()\n",
    "    ridge_regressor.fit(X_train, y_train)\n",
    "    \n",
    "    print(\"权重向量：%s, b的值为%.2f\" % (ridge_regressor.coef_, ridge_regressor.intercept_))\n",
    "    print(\"损失函数的值是: %.2f\" % np.mean((ridge_regressor.predict(X_test) - y_test)**2))\n",
    "    print(\"预测性能得分：%.2f\" % ridge_regressor.score(X_test, y_test))"
   ]
  },
  {
   "cell_type": "code",
   "execution_count": 17,
   "metadata": {},
   "outputs": [
    {
     "name": "stdout",
     "output_type": "stream",
     "text": [
      "权重向量：[  17.8901515   -75.51310094  285.75271232  188.72034689   10.02203674\n",
      "  -22.12111503 -147.98050025  117.87224606  252.81283476  114.56114916], b的值为153.94\n",
      "损失函数的值是: 2981.34\n",
      "预测性能得分：0.40\n"
     ]
    }
   ],
   "source": [
    "test_ridge(X_train, X_test, y_train, y_test)"
   ]
  },
  {
   "cell_type": "code",
   "execution_count": 18,
   "metadata": {},
   "outputs": [],
   "source": [
    "def test_lasso(*data):\n",
    "    X_train, X_test, y_train, y_test = data\n",
    "    lasso_regressor = linear_model.Lasso()\n",
    "    lasso_regressor.fit(X_train, y_train)\n",
    "    \n",
    "    print(\"权重向量：%s, b的值为%.2f\" % (lasso_regressor.coef_, lasso_regressor.intercept_))\n",
    "    print(\"损失函数的值是: %.2f\" % np.mean((lasso_regressor.predict(X_test) - y_test)**2))\n",
    "    print(\"预测性能得分：%.2f\" % lasso_regressor.score(X_test, y_test))"
   ]
  },
  {
   "cell_type": "code",
   "execution_count": 19,
   "metadata": {},
   "outputs": [
    {
     "name": "stdout",
     "output_type": "stream",
     "text": [
      "权重向量：[  0.          -0.         384.59858959   9.69453174   0.\n",
      "   0.          -0.           0.         328.43729591   0.        ], b的值为154.13\n",
      "损失函数的值是: 3290.73\n",
      "预测性能得分：0.34\n"
     ]
    }
   ],
   "source": [
    "test_lasso(X_train, X_test, y_train, y_test)"
   ]
  }
 ],
 "metadata": {
  "kernelspec": {
   "display_name": "Python 3",
   "language": "python",
   "name": "python3"
  },
  "language_info": {
   "codemirror_mode": {
    "name": "ipython",
    "version": 3
   },
   "file_extension": ".py",
   "mimetype": "text/x-python",
   "name": "python",
   "nbconvert_exporter": "python",
   "pygments_lexer": "ipython3",
   "version": "3.7.1"
  }
 },
 "nbformat": 4,
 "nbformat_minor": 2
}
