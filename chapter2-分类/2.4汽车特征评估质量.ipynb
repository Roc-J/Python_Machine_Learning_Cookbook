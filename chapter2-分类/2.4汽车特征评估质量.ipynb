{
 "cells": [
  {
   "cell_type": "markdown",
   "metadata": {},
   "source": [
    "数据集:https://archive.ics.uci.edu/ml/datasets/Car+Evaluation  \n",
    "Attribute Information:  \n",
    "Class Values:   \n",
    "unacc, acc, good, vgood   \n",
    "\n",
    "Attributes:   \n",
    "buying: vhigh, high, med, low.   \n",
    "maint: vhigh, high, med, low.   \n",
    "doors: 2, 3, 4, 5more.   \n",
    "persons: 2, 4, more.   \n",
    "lug_boot: small, med, big.   \n",
    "safety: low, med, high.   \n",
    "\n",
    "分类问题，四个类别unacc, acc, good, vgood   \n",
    "六个属性  \n",
    "前五行数据内容：\n",
    "vhigh,vhigh,2,2,small,low,unacc  \n",
    "vhigh,vhigh,2,2,small,med,unacc  \n",
    "vhigh,vhigh,2,2,small,high,unacc  \n",
    "vhigh,vhigh,2,2,med,low,unacc  \n",
    "vhigh,vhigh,2,2,med,med,unacc  "
   ]
  },
  {
   "cell_type": "code",
   "execution_count": 14,
   "metadata": {},
   "outputs": [],
   "source": [
    "import numpy as np\n",
    "from sklearn.preprocessing import LabelEncoder\n",
    "from sklearn.ensemble import RandomForestClassifier"
   ]
  },
  {
   "cell_type": "code",
   "execution_count": 7,
   "metadata": {},
   "outputs": [],
   "source": [
    "input_file = \"car.data.txt\"\n",
    "X = []\n",
    "with open(input_file, 'r') as f:\n",
    "    for line in f.readlines():\n",
    "        data = line[:-1].split(',')\n",
    "        X.append(data)\n",
    "        \n",
    "X = np.array(X)"
   ]
  },
  {
   "cell_type": "code",
   "execution_count": 9,
   "metadata": {},
   "outputs": [
    {
     "data": {
      "text/plain": [
       "array(['vhigh', 'vhigh', '2', '2', 'small', 'low', 'unacc'], dtype='<U5')"
      ]
     },
     "execution_count": 9,
     "metadata": {},
     "output_type": "execute_result"
    }
   ],
   "source": [
    "X[0]"
   ]
  },
  {
   "cell_type": "code",
   "execution_count": 11,
   "metadata": {},
   "outputs": [],
   "source": [
    "# 将字符串转化为数值\n",
    "label_encoder = []\n",
    "X_encoded = np.empty(X.shape)\n",
    "for i,item in enumerate(X[0]):\n",
    "    label_encoder.append(LabelEncoder())\n",
    "    X_encoded[:,i] = label_encoder[-1].fit_transform(X[:, i])\n",
    "\n",
    "X = X_encoded[:, :-1].astype(int)\n",
    "y = X_encoded[:, -1].astype(int)"
   ]
  },
  {
   "cell_type": "code",
   "execution_count": 19,
   "metadata": {},
   "outputs": [
    {
     "data": {
      "text/plain": [
       "RandomForestClassifier(bootstrap=True, class_weight=None, criterion='gini',\n",
       "            max_depth=10, max_features='auto', max_leaf_nodes=None,\n",
       "            min_impurity_decrease=0.0, min_impurity_split=None,\n",
       "            min_samples_leaf=1, min_samples_split=2,\n",
       "            min_weight_fraction_leaf=0.0, n_estimators=1000, n_jobs=None,\n",
       "            oob_score=False, random_state=7, verbose=0, warm_start=False)"
      ]
     },
     "execution_count": 19,
     "metadata": {},
     "output_type": "execute_result"
    }
   ],
   "source": [
    "# 建立随机森林分类器\n",
    "params = {'n_estimators':1000, 'max_depth':10, 'random_state':7}\n",
    "classifier = RandomForestClassifier(**params)\n",
    "classifier.fit(X,y)"
   ]
  },
  {
   "cell_type": "code",
   "execution_count": 20,
   "metadata": {},
   "outputs": [
    {
     "name": "stdout",
     "output_type": "stream",
     "text": [
      "准确率:  79.53\n"
     ]
    }
   ],
   "source": [
    "from sklearn.model_selection import cross_val_score\n",
    "accuracy = cross_val_score(classifier, X, y, scoring=\"accuracy\", cv=5)\n",
    "print(\"准确率: \", round(100.0*accuracy.mean(), 2))"
   ]
  },
  {
   "cell_type": "markdown",
   "metadata": {},
   "source": [
    "# 验证测试未知的数据"
   ]
  },
  {
   "cell_type": "code",
   "execution_count": 27,
   "metadata": {},
   "outputs": [],
   "source": [
    "input_data = [\"vhigh\",\"vhigh\",\"2\",\"2\",\"small\",\"low\"]\n",
    "input_data_encoded = [-1]*len(input_data)\n",
    "for i,item in enumerate(input_data):\n",
    "    input_data_encoded[i] = label_encoder[i].transform(list([input_data[i]]))[0]\n",
    "    \n",
    "input_data_encoded = np.array(input_data_encoded)"
   ]
  },
  {
   "cell_type": "code",
   "execution_count": 36,
   "metadata": {},
   "outputs": [
    {
     "name": "stdout",
     "output_type": "stream",
     "text": [
      "预测的结果是:  unacc\n"
     ]
    }
   ],
   "source": [
    "input_data_encoded = np.array(input_data_encoded).reshape(1,-1)\n",
    "output_pred = classifier.predict(input_data_encoded)\n",
    "print(\"预测的结果是: \",label_encoder[-1].inverse_transform(output_pred)[0])"
   ]
  }
 ],
 "metadata": {
  "kernelspec": {
   "display_name": "Python 3",
   "language": "python",
   "name": "python3"
  },
  "language_info": {
   "codemirror_mode": {
    "name": "ipython",
    "version": 3
   },
   "file_extension": ".py",
   "mimetype": "text/x-python",
   "name": "python",
   "nbconvert_exporter": "python",
   "pygments_lexer": "ipython3",
   "version": "3.7.1"
  }
 },
 "nbformat": 4,
 "nbformat_minor": 2
}
