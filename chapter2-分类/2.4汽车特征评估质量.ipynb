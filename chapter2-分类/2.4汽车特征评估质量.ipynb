{
 "cells": [
  {
   "cell_type": "markdown",
   "metadata": {},
   "source": [
    "数据集:https://archive.ics.uci.edu/ml/datasets/Car+Evaluation  \n",
    "Attribute Information:  \n",
    "Class Values:   \n",
    "unacc, acc, good, vgood   \n",
    "\n",
    "Attributes:   \n",
    "buying: vhigh, high, med, low.   \n",
    "maint: vhigh, high, med, low.   \n",
    "doors: 2, 3, 4, 5more.   \n",
    "persons: 2, 4, more.   \n",
    "lug_boot: small, med, big.   \n",
    "safety: low, med, high.   \n",
    "\n",
    "分类问题，四个类别unacc, acc, good, vgood   \n",
    "六个属性  \n",
    "前五行数据内容：\n",
    "vhigh,vhigh,2,2,small,low,unacc  \n",
    "vhigh,vhigh,2,2,small,med,unacc  \n",
    "vhigh,vhigh,2,2,small,high,unacc  \n",
    "vhigh,vhigh,2,2,med,low,unacc  \n",
    "vhigh,vhigh,2,2,med,med,unacc  "
   ]
  },
  {
   "cell_type": "code",
   "execution_count": 1,
   "metadata": {},
   "outputs": [],
   "source": [
    "import numpy as np\n",
    "from sklearn.preprocessing import LabelEncoder\n",
    "from sklearn.ensemble import RandomForestClassifier"
   ]
  },
  {
   "cell_type": "code",
   "execution_count": 2,
   "metadata": {},
   "outputs": [],
   "source": [
    "input_file = \"car.data.txt\"\n",
    "X = []\n",
    "with open(input_file, 'r') as f:\n",
    "    for line in f.readlines():\n",
    "        data = line[:-1].split(',')\n",
    "        X.append(data)\n",
    "        \n",
    "X = np.array(X)"
   ]
  },
  {
   "cell_type": "code",
   "execution_count": 3,
   "metadata": {},
   "outputs": [
    {
     "data": {
      "text/plain": [
       "array(['vhigh', 'vhigh', '2', '2', 'small', 'low', 'unacc'], dtype='<U5')"
      ]
     },
     "execution_count": 3,
     "metadata": {},
     "output_type": "execute_result"
    }
   ],
   "source": [
    "X[0]"
   ]
  },
  {
   "cell_type": "code",
   "execution_count": 4,
   "metadata": {},
   "outputs": [],
   "source": [
    "# 将字符串转化为数值\n",
    "label_encoder = []\n",
    "X_encoded = np.empty(X.shape)\n",
    "for i,item in enumerate(X[0]):\n",
    "    label_encoder.append(LabelEncoder())\n",
    "    X_encoded[:,i] = label_encoder[-1].fit_transform(X[:, i])\n",
    "\n",
    "X = X_encoded[:, :-1].astype(int)\n",
    "y = X_encoded[:, -1].astype(int)"
   ]
  },
  {
   "cell_type": "code",
   "execution_count": 5,
   "metadata": {},
   "outputs": [
    {
     "data": {
      "text/plain": [
       "RandomForestClassifier(bootstrap=True, class_weight=None, criterion='gini',\n",
       "            max_depth=10, max_features='auto', max_leaf_nodes=None,\n",
       "            min_impurity_decrease=0.0, min_impurity_split=None,\n",
       "            min_samples_leaf=1, min_samples_split=2,\n",
       "            min_weight_fraction_leaf=0.0, n_estimators=1000, n_jobs=None,\n",
       "            oob_score=False, random_state=7, verbose=0, warm_start=False)"
      ]
     },
     "execution_count": 5,
     "metadata": {},
     "output_type": "execute_result"
    }
   ],
   "source": [
    "# 建立随机森林分类器\n",
    "params = {'n_estimators':1000, 'max_depth':10, 'random_state':7}\n",
    "classifier = RandomForestClassifier(**params)\n",
    "classifier.fit(X,y)"
   ]
  },
  {
   "cell_type": "code",
   "execution_count": 6,
   "metadata": {},
   "outputs": [
    {
     "name": "stdout",
     "output_type": "stream",
     "text": [
      "准确率:  79.53\n"
     ]
    }
   ],
   "source": [
    "from sklearn.model_selection import cross_val_score\n",
    "accuracy = cross_val_score(classifier, X, y, scoring=\"accuracy\", cv=5)\n",
    "print(\"准确率: \", round(100.0*accuracy.mean(), 2))"
   ]
  },
  {
   "cell_type": "markdown",
   "metadata": {},
   "source": [
    "# 验证测试未知的数据"
   ]
  },
  {
   "cell_type": "code",
   "execution_count": 7,
   "metadata": {},
   "outputs": [],
   "source": [
    "input_data = [\"vhigh\",\"vhigh\",\"2\",\"2\",\"small\",\"low\"]\n",
    "input_data_encoded = [-1]*len(input_data)\n",
    "for i,item in enumerate(input_data):\n",
    "    input_data_encoded[i] = label_encoder[i].transform(list([input_data[i]]))[0]\n",
    "    \n",
    "input_data_encoded = np.array(input_data_encoded)"
   ]
  },
  {
   "cell_type": "code",
   "execution_count": 8,
   "metadata": {},
   "outputs": [
    {
     "name": "stdout",
     "output_type": "stream",
     "text": [
      "预测的结果是:  unacc\n"
     ]
    }
   ],
   "source": [
    "input_data_encoded = np.array(input_data_encoded).reshape(1,-1)\n",
    "output_pred = classifier.predict(input_data_encoded)\n",
    "print(\"预测的结果是: \",label_encoder[-1].inverse_transform(output_pred)[0])"
   ]
  },
  {
   "cell_type": "code",
   "execution_count": 10,
   "metadata": {},
   "outputs": [],
   "source": [
    "from sklearn.model_selection import validation_curve"
   ]
  },
  {
   "cell_type": "code",
   "execution_count": 11,
   "metadata": {},
   "outputs": [
    {
     "name": "stdout",
     "output_type": "stream",
     "text": [
      "validation curve: \n",
      "nParam: n_estimators\n",
      "Training scores:  [[0.89218524 0.85094067 0.89580318 0.84442836 0.85260116]\n",
      " [0.8813314  0.87554269 0.86975398 0.86034732 0.85260116]\n",
      " [0.86975398 0.88205499 0.88422576 0.86324168 0.85476879]\n",
      " [0.86903039 0.86758321 0.86758321 0.85962373 0.84537572]\n",
      " [0.87409551 0.86468886 0.86975398 0.85962373 0.84176301]\n",
      " [0.85890014 0.86613603 0.85962373 0.85890014 0.84176301]\n",
      " [0.86685962 0.85672938 0.85745297 0.85962373 0.84393064]\n",
      " [0.86541245 0.85745297 0.85383502 0.85745297 0.84320809]]\n",
      "nParam: n_estimators\n",
      "Validation scores:  [[0.69653179 0.76878613 0.69075145 0.82080925 0.78488372]\n",
      " [0.71098266 0.76011561 0.71387283 0.82369942 0.79069767]\n",
      " [0.70231214 0.76589595 0.72254335 0.82080925 0.79069767]\n",
      " [0.70231214 0.75722543 0.71676301 0.82080925 0.78197674]\n",
      " [0.70520231 0.76878613 0.71676301 0.82369942 0.77906977]\n",
      " [0.71098266 0.76878613 0.71676301 0.82080925 0.78197674]\n",
      " [0.71098266 0.7716763  0.71387283 0.83236994 0.78488372]\n",
      " [0.71098266 0.76589595 0.71387283 0.83236994 0.78197674]]\n"
     ]
    }
   ],
   "source": [
    "classifier = RandomForestClassifier(max_depth=5, random_state=7)\n",
    "parameter_grid = np.linspace(25,200,8).astype(int)\n",
    "train_score, validation_score = validation_curve(classifier, X, y, \"n_estimators\", parameter_grid, cv=5)\n",
    "print(\"validation curve: \")\n",
    "print(\"nParam: n_estimators\\nTraining scores: \",train_score)\n",
    "print(\"nParam: n_estimators\\nValidation scores: \",validation_score)"
   ]
  },
  {
   "cell_type": "code",
   "execution_count": 12,
   "metadata": {},
   "outputs": [],
   "source": [
    "import matplotlib.pyplot as plt\n",
    "%matplotlib inline"
   ]
  },
  {
   "cell_type": "code",
   "execution_count": 16,
   "metadata": {},
   "outputs": [
    {
     "data": {
      "image/png": "[encoded data removed]",
      "text/plain": [
       "<Figure size 432x288 with 1 Axes>"
      ]
     },
     "metadata": {
      "needs_background": "light"
     },
     "output_type": "display_data"
    }
   ],
   "source": [
    "plt.figure()\n",
    "plt.plot(parameter_grid, 100.0*np.average(train_score, axis=1),color=\"black\")\n",
    "plt.title(\"Training curve\")\n",
    "plt.xlabel(\"Number of estimators\")\n",
    "plt.ylabel(\"Accuracy\")\n",
    "plt.show()"
   ]
  },
  {
   "cell_type": "code",
   "execution_count": 17,
   "metadata": {},
   "outputs": [
    {
     "name": "stdout",
     "output_type": "stream",
     "text": [
      "validation curve: \n",
      "nParam: n_estimators\n",
      "Training scores:  [[0.7105644  0.70043415 0.70911722 0.70043415 0.69942197]\n",
      " [0.80101302 0.80680174 0.81114327 0.81476122 0.8150289 ]\n",
      " [0.91751085 0.92691751 0.9276411  0.91678726 0.91473988]\n",
      " [0.97684515 0.97467438 0.97322721 0.98263386 0.97687861]\n",
      " [0.99855282 0.99855282 0.99855282 1.         0.99638728]]\n",
      "nParam: n_estimators\n",
      "Validation scores:  [[0.69942197 0.69942197 0.7283237  0.69942197 0.70348837]\n",
      " [0.71098266 0.72254335 0.71965318 0.75722543 0.74418605]\n",
      " [0.72543353 0.76300578 0.72543353 0.84682081 0.84883721]\n",
      " [0.65317919 0.79190751 0.78612717 0.78901734 0.90697674]\n",
      " [0.62138728 0.79479769 0.82080925 0.84393064 0.88662791]]\n"
     ]
    }
   ],
   "source": [
    "classifier = RandomForestClassifier(n_estimators=75, random_state=7)\n",
    "parameter_grid = np.linspace(2,10,5).astype(int)\n",
    "train_score, validation_score = validation_curve(classifier, X, y, \"max_depth\", parameter_grid, cv=5)\n",
    "print(\"validation curve: \")\n",
    "print(\"nParam: n_estimators\\nTraining scores: \",train_score)\n",
    "print(\"nParam: n_estimators\\nValidation scores: \",validation_score)"
   ]
  },
  {
   "cell_type": "code",
   "execution_count": 18,
   "metadata": {},
   "outputs": [
    {
     "data": {
      "image/png": "[encoded data removed]",
      "text/plain": [
       "<Figure size 432x288 with 1 Axes>"
      ]
     },
     "metadata": {
      "needs_background": "light"
     },
     "output_type": "display_data"
    }
   ],
   "source": [
    "plt.figure()\n",
    "plt.plot(parameter_grid, 100.0*np.average(train_score, axis=1),color=\"black\")\n",
    "plt.title(\"Training curve\")\n",
    "plt.xlabel(\"Maximum depth of the tree\")\n",
    "plt.ylabel(\"Accuracy\")\n",
    "plt.show()"
   ]
  },
  {
   "cell_type": "code",
   "execution_count": null,
   "metadata": {},
   "outputs": [],
   "source": []
  }
 ],
 "metadata": {
  "kernelspec": {
   "display_name": "Python 3",
   "language": "python",
   "name": "python3"
  },
  "language_info": {
   "codemirror_mode": {
    "name": "ipython",
    "version": 3
   },
   "file_extension": ".py",
   "mimetype": "text/x-python",
   "name": "python",
   "nbconvert_exporter": "python",
   "pygments_lexer": "ipython3",
   "version": "3.7.1"
  }
 },
 "nbformat": 4,
 "nbformat_minor": 2
}
