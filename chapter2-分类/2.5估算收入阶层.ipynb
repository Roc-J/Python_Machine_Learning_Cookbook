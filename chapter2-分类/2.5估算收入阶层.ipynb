{
 "cells": [
  {
   "cell_type": "code",
   "execution_count": 10,
   "metadata": {},
   "outputs": [],
   "source": [
    "import numpy as np\n",
    "from sklearn.naive_bayes import GaussianNB\n",
    "from sklearn.model_selection import train_test_split, cross_val_score\n",
    "from sklearn.preprocessing import LabelEncoder"
   ]
  },
  {
   "cell_type": "code",
   "execution_count": 4,
   "metadata": {},
   "outputs": [],
   "source": [
    "filename = \"adult.data.txt\"\n",
    "X = []\n",
    "y = []\n",
    "count_lessthan50k = 0\n",
    "count_morethan50k = 0\n",
    "num_threshold = 10000\n",
    "with open(filename, 'r') as f:\n",
    "    for line in f.readlines():\n",
    "        if \"?\" in line:\n",
    "            continue\n",
    "        data = line[:-1].split(', ')\n",
    "        if data[-1] == \"<=50K\" and count_lessthan50k < num_threshold:\n",
    "            X.append(data)\n",
    "            count_lessthan50k +=1\n",
    "        elif data[-1] == \">50K\" and count_morethan50k < num_threshold:\n",
    "            X.append(data)\n",
    "            count_morethan50k += 1\n",
    "        if count_lessthan50k >= num_threshold and count_morethan50k >= num_threshold:\n",
    "            break\n",
    "X = np.array(X)"
   ]
  },
  {
   "cell_type": "code",
   "execution_count": 7,
   "metadata": {},
   "outputs": [],
   "source": [
    "label_encoder = []\n",
    "X_encoded = np.empty(X.shape)\n",
    "for i, item in enumerate(X[0]):\n",
    "    if item.isdigit():\n",
    "        X_encoded[:,i] = X[:, i]\n",
    "    else:\n",
    "        label_encoder.append(LabelEncoder())\n",
    "        X_encoded[:, i] = label_encoder[-1].fit_transform(X[:,i])\n",
    "        \n",
    "X = X_encoded[:, :-1].astype(int)\n",
    "y = X_encoded[:,-1].astype(int)"
   ]
  },
  {
   "cell_type": "code",
   "execution_count": 11,
   "metadata": {},
   "outputs": [
    {
     "name": "stdout",
     "output_type": "stream",
     "text": [
      "f1:  63.06\n"
     ]
    }
   ],
   "source": [
    "X_train, X_test, y_train, y_test = train_test_split(X, y, test_size=0.25, random_state=7)\n",
    "classifier_gaussiannb = GaussianNB()\n",
    "classifier_gaussiannb.fit(X_train, y_train)\n",
    "y_test_pred = classifier_gaussiannb.predict(X_test)\n",
    "f1 = cross_val_score(classifier_gaussiannb, X, y, scoring=\"f1_weighted\", cv=5)\n",
    "print(\"f1: \", round(100.0*f1.mean(), 2))"
   ]
  },
  {
   "cell_type": "code",
   "execution_count": 16,
   "metadata": {},
   "outputs": [
    {
     "name": "stdout",
     "output_type": "stream",
     "text": [
      "accuracy:  66.1\n"
     ]
    }
   ],
   "source": [
    "print(\"accuracy: \", round(100.0*(y_test == y_test_pred).sum()/len(X_test), 2))"
   ]
  },
  {
   "cell_type": "code",
   "execution_count": 20,
   "metadata": {},
   "outputs": [
    {
     "name": "stdout",
     "output_type": "stream",
     "text": [
      "<=50K\n"
     ]
    }
   ],
   "source": [
    "input_data = [\"39\", \"State-gov\", \"77516\", \"Bachelors\", \"13\", \"Never-married\", \"Adm-clerical\", \"Not-in-family\", \"White\", \"Male\", \"2174\",\"0\", \"40\", \"United-States\"]\n",
    "count = 0\n",
    "input_data_encoded = [-1]*len(input_data)\n",
    "for i, item in enumerate(input_data):\n",
    "    if item.isdigit():\n",
    "        input_data_encoded[i] = input_data[i]\n",
    "    else:\n",
    "        input_data_encoded[i] = label_encoder[count].transform(list([input_data[i]]))[0]\n",
    "        count += 1\n",
    "        \n",
    "input_data_encoded = np.array(input_data_encoded).reshape(1,-1).astype(int)\n",
    "\n",
    "output_class = classifier_gaussiannb.predict(input_data_encoded)\n",
    "print(label_encoder[-1].inverse_transform(output_class)[0])"
   ]
  }
 ],
 "metadata": {
  "kernelspec": {
   "display_name": "Python 3",
   "language": "python",
   "name": "python3"
  },
  "language_info": {
   "codemirror_mode": {
    "name": "ipython",
    "version": 3
   },
   "file_extension": ".py",
   "mimetype": "text/x-python",
   "name": "python",
   "nbconvert_exporter": "python",
   "pygments_lexer": "ipython3",
   "version": "3.7.1"
  }
 },
 "nbformat": 4,
 "nbformat_minor": 2
}
