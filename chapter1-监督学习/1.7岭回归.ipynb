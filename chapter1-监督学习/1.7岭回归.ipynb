{
 "cells": [
  {
   "cell_type": "markdown",
   "metadata": {},
   "source": [
    "## 岭回归\n",
    "线性回归最主要的问题是对异常值敏感。在真实世界的数据收集过程中，经常会遇到错误的度量结果。线性回归使用的是普通最小二乘法，其目标是使平方误差最小化。当存在异常值时，会对模型影响很大。  \n",
    "换句话说，最小二乘法在建模时会考虑每个数据点的影响，对于存在异常数据点的问题，可以通过引入正则化项的系数作为阈值来消除异常值的影响。"
   ]
  }
 ],
 "metadata": {
  "kernelspec": {
   "display_name": "Python 3",
   "language": "python",
   "name": "python3"
  },
  "language_info": {
   "codemirror_mode": {
    "name": "ipython",
    "version": 3
   },
   "file_extension": ".py",
   "mimetype": "text/x-python",
   "name": "python",
   "nbconvert_exporter": "python",
   "pygments_lexer": "ipython3",
   "version": "3.7.1"
  }
 },
 "nbformat": 4,
 "nbformat_minor": 2
}
